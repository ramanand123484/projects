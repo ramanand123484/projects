{
 "cells": [
  {
   "cell_type": "code",
   "execution_count": 9,
   "id": "e62a489c",
   "metadata": {},
   "outputs": [
    {
     "name": "stdout",
     "output_type": "stream",
     "text": [
      "Defaulting to user installation because normal site-packages is not writeable\n",
      "Requirement already satisfied: langgraph in c:\\users\\dell\\appdata\\roaming\\python\\python313\\site-packages (0.6.7)\n",
      "Requirement already satisfied: langsmith in c:\\users\\dell\\appdata\\roaming\\python\\python313\\site-packages (0.4.30)\n",
      "Requirement already satisfied: langchain-core>=0.1 in c:\\users\\dell\\appdata\\roaming\\python\\python313\\site-packages (from langgraph) (0.3.76)\n",
      "Requirement already satisfied: langgraph-checkpoint<3.0.0,>=2.1.0 in c:\\users\\dell\\appdata\\roaming\\python\\python313\\site-packages (from langgraph) (2.1.1)\n",
      "Requirement already satisfied: langgraph-prebuilt<0.7.0,>=0.6.0 in c:\\users\\dell\\appdata\\roaming\\python\\python313\\site-packages (from langgraph) (0.6.4)\n",
      "Requirement already satisfied: langgraph-sdk<0.3.0,>=0.2.2 in c:\\users\\dell\\appdata\\roaming\\python\\python313\\site-packages (from langgraph) (0.2.9)\n",
      "Requirement already satisfied: pydantic>=2.7.4 in c:\\users\\dell\\appdata\\roaming\\python\\python313\\site-packages (from langgraph) (2.11.7)\n",
      "Requirement already satisfied: xxhash>=3.5.0 in c:\\users\\dell\\appdata\\roaming\\python\\python313\\site-packages (from langgraph) (3.5.0)\n",
      "Requirement already satisfied: ormsgpack>=1.10.0 in c:\\users\\dell\\appdata\\roaming\\python\\python313\\site-packages (from langgraph-checkpoint<3.0.0,>=2.1.0->langgraph) (1.10.0)\n",
      "Requirement already satisfied: httpx>=0.25.2 in c:\\users\\dell\\appdata\\roaming\\python\\python313\\site-packages (from langgraph-sdk<0.3.0,>=0.2.2->langgraph) (0.28.1)\n",
      "Requirement already satisfied: orjson>=3.10.1 in c:\\users\\dell\\appdata\\roaming\\python\\python313\\site-packages (from langgraph-sdk<0.3.0,>=0.2.2->langgraph) (3.10.18)\n",
      "Requirement already satisfied: packaging>=23.2 in c:\\users\\dell\\appdata\\roaming\\python\\python313\\site-packages (from langsmith) (25.0)\n",
      "Requirement already satisfied: requests-toolbelt>=1.0.0 in c:\\users\\dell\\appdata\\roaming\\python\\python313\\site-packages (from langsmith) (1.0.0)\n",
      "Requirement already satisfied: requests>=2.0.0 in c:\\users\\dell\\appdata\\roaming\\python\\python313\\site-packages (from langsmith) (2.32.4)\n",
      "Requirement already satisfied: zstandard>=0.23.0 in c:\\users\\dell\\appdata\\roaming\\python\\python313\\site-packages (from langsmith) (0.25.0)\n",
      "Requirement already satisfied: anyio in c:\\users\\dell\\appdata\\roaming\\python\\python313\\site-packages (from httpx>=0.25.2->langgraph-sdk<0.3.0,>=0.2.2->langgraph) (4.9.0)\n",
      "Requirement already satisfied: certifi in c:\\users\\dell\\appdata\\roaming\\python\\python313\\site-packages (from httpx>=0.25.2->langgraph-sdk<0.3.0,>=0.2.2->langgraph) (2025.6.15)\n",
      "Requirement already satisfied: httpcore==1.* in c:\\users\\dell\\appdata\\roaming\\python\\python313\\site-packages (from httpx>=0.25.2->langgraph-sdk<0.3.0,>=0.2.2->langgraph) (1.0.9)\n",
      "Requirement already satisfied: idna in c:\\users\\dell\\appdata\\roaming\\python\\python313\\site-packages (from httpx>=0.25.2->langgraph-sdk<0.3.0,>=0.2.2->langgraph) (3.10)\n",
      "Requirement already satisfied: h11>=0.16 in c:\\users\\dell\\appdata\\roaming\\python\\python313\\site-packages (from httpcore==1.*->httpx>=0.25.2->langgraph-sdk<0.3.0,>=0.2.2->langgraph) (0.16.0)\n",
      "Requirement already satisfied: annotated-types>=0.6.0 in c:\\users\\dell\\appdata\\roaming\\python\\python313\\site-packages (from pydantic>=2.7.4->langgraph) (0.7.0)\n",
      "Requirement already satisfied: pydantic-core==2.33.2 in c:\\users\\dell\\appdata\\roaming\\python\\python313\\site-packages (from pydantic>=2.7.4->langgraph) (2.33.2)\n",
      "Requirement already satisfied: typing-extensions>=4.12.2 in c:\\users\\dell\\appdata\\roaming\\python\\python313\\site-packages (from pydantic>=2.7.4->langgraph) (4.14.0)\n",
      "Requirement already satisfied: typing-inspection>=0.4.0 in c:\\users\\dell\\appdata\\roaming\\python\\python313\\site-packages (from pydantic>=2.7.4->langgraph) (0.4.1)\n",
      "Requirement already satisfied: tenacity!=8.4.0,<10.0.0,>=8.1.0 in c:\\users\\dell\\appdata\\roaming\\python\\python313\\site-packages (from langchain-core>=0.1->langgraph) (9.1.2)\n",
      "Requirement already satisfied: jsonpatch<2.0,>=1.33 in c:\\users\\dell\\appdata\\roaming\\python\\python313\\site-packages (from langchain-core>=0.1->langgraph) (1.33)\n",
      "Requirement already satisfied: PyYAML>=5.3 in c:\\users\\dell\\appdata\\roaming\\python\\python313\\site-packages (from langchain-core>=0.1->langgraph) (6.0.2)\n",
      "Requirement already satisfied: jsonpointer>=1.9 in c:\\users\\dell\\appdata\\roaming\\python\\python313\\site-packages (from jsonpatch<2.0,>=1.33->langchain-core>=0.1->langgraph) (3.0.0)\n",
      "Requirement already satisfied: charset_normalizer<4,>=2 in c:\\users\\dell\\appdata\\roaming\\python\\python313\\site-packages (from requests>=2.0.0->langsmith) (3.4.2)\n",
      "Requirement already satisfied: urllib3<3,>=1.21.1 in c:\\users\\dell\\appdata\\roaming\\python\\python313\\site-packages (from requests>=2.0.0->langsmith) (2.5.0)\n",
      "Requirement already satisfied: sniffio>=1.1 in c:\\users\\dell\\appdata\\roaming\\python\\python313\\site-packages (from anyio->httpx>=0.25.2->langgraph-sdk<0.3.0,>=0.2.2->langgraph) (1.3.1)\n",
      "Note: you may need to restart the kernel to use updated packages.\n"
     ]
    }
   ],
   "source": [
    "pip install langgraph langsmith"
   ]
  },
  {
   "cell_type": "code",
   "execution_count": 10,
   "id": "99b67019",
   "metadata": {},
   "outputs": [
    {
     "name": "stdout",
     "output_type": "stream",
     "text": [
      "Defaulting to user installation because normal site-packages is not writeable\n",
      "Requirement already satisfied: langchain in c:\\users\\dell\\appdata\\roaming\\python\\python313\\site-packages (0.3.27)\n",
      "Collecting langchain_groq\n",
      "  Downloading langchain_groq-0.3.8-py3-none-any.whl.metadata (2.6 kB)\n",
      "Collecting langchain_community\n",
      "  Downloading langchain_community-0.3.29-py3-none-any.whl.metadata (2.9 kB)\n",
      "Requirement already satisfied: langchain-core<1.0.0,>=0.3.72 in c:\\users\\dell\\appdata\\roaming\\python\\python313\\site-packages (from langchain) (0.3.76)\n",
      "Requirement already satisfied: langchain-text-splitters<1.0.0,>=0.3.9 in c:\\users\\dell\\appdata\\roaming\\python\\python313\\site-packages (from langchain) (0.3.11)\n",
      "Requirement already satisfied: langsmith>=0.1.17 in c:\\users\\dell\\appdata\\roaming\\python\\python313\\site-packages (from langchain) (0.4.30)\n",
      "Requirement already satisfied: pydantic<3.0.0,>=2.7.4 in c:\\users\\dell\\appdata\\roaming\\python\\python313\\site-packages (from langchain) (2.11.7)\n",
      "Requirement already satisfied: SQLAlchemy<3,>=1.4 in c:\\users\\dell\\appdata\\roaming\\python\\python313\\site-packages (from langchain) (2.0.43)\n",
      "Requirement already satisfied: requests<3,>=2 in c:\\users\\dell\\appdata\\roaming\\python\\python313\\site-packages (from langchain) (2.32.4)\n",
      "Requirement already satisfied: PyYAML>=5.3 in c:\\users\\dell\\appdata\\roaming\\python\\python313\\site-packages (from langchain) (6.0.2)\n",
      "Requirement already satisfied: tenacity!=8.4.0,<10.0.0,>=8.1.0 in c:\\users\\dell\\appdata\\roaming\\python\\python313\\site-packages (from langchain-core<1.0.0,>=0.3.72->langchain) (9.1.2)\n",
      "Requirement already satisfied: jsonpatch<2.0,>=1.33 in c:\\users\\dell\\appdata\\roaming\\python\\python313\\site-packages (from langchain-core<1.0.0,>=0.3.72->langchain) (1.33)\n",
      "Requirement already satisfied: typing-extensions>=4.7 in c:\\users\\dell\\appdata\\roaming\\python\\python313\\site-packages (from langchain-core<1.0.0,>=0.3.72->langchain) (4.14.0)\n",
      "Requirement already satisfied: packaging>=23.2 in c:\\users\\dell\\appdata\\roaming\\python\\python313\\site-packages (from langchain-core<1.0.0,>=0.3.72->langchain) (25.0)\n",
      "Requirement already satisfied: jsonpointer>=1.9 in c:\\users\\dell\\appdata\\roaming\\python\\python313\\site-packages (from jsonpatch<2.0,>=1.33->langchain-core<1.0.0,>=0.3.72->langchain) (3.0.0)\n",
      "Requirement already satisfied: annotated-types>=0.6.0 in c:\\users\\dell\\appdata\\roaming\\python\\python313\\site-packages (from pydantic<3.0.0,>=2.7.4->langchain) (0.7.0)\n",
      "Requirement already satisfied: pydantic-core==2.33.2 in c:\\users\\dell\\appdata\\roaming\\python\\python313\\site-packages (from pydantic<3.0.0,>=2.7.4->langchain) (2.33.2)\n",
      "Requirement already satisfied: typing-inspection>=0.4.0 in c:\\users\\dell\\appdata\\roaming\\python\\python313\\site-packages (from pydantic<3.0.0,>=2.7.4->langchain) (0.4.1)\n",
      "Requirement already satisfied: charset_normalizer<4,>=2 in c:\\users\\dell\\appdata\\roaming\\python\\python313\\site-packages (from requests<3,>=2->langchain) (3.4.2)\n",
      "Requirement already satisfied: idna<4,>=2.5 in c:\\users\\dell\\appdata\\roaming\\python\\python313\\site-packages (from requests<3,>=2->langchain) (3.10)\n",
      "Requirement already satisfied: urllib3<3,>=1.21.1 in c:\\users\\dell\\appdata\\roaming\\python\\python313\\site-packages (from requests<3,>=2->langchain) (2.5.0)\n",
      "Requirement already satisfied: certifi>=2017.4.17 in c:\\users\\dell\\appdata\\roaming\\python\\python313\\site-packages (from requests<3,>=2->langchain) (2025.6.15)\n",
      "Requirement already satisfied: greenlet>=1 in c:\\users\\dell\\appdata\\roaming\\python\\python313\\site-packages (from SQLAlchemy<3,>=1.4->langchain) (3.2.4)\n",
      "Collecting groq<1,>=0.30.0 (from langchain_groq)\n",
      "  Downloading groq-0.31.1-py3-none-any.whl.metadata (16 kB)\n",
      "Requirement already satisfied: anyio<5,>=3.5.0 in c:\\users\\dell\\appdata\\roaming\\python\\python313\\site-packages (from groq<1,>=0.30.0->langchain_groq) (4.9.0)\n",
      "Collecting distro<2,>=1.7.0 (from groq<1,>=0.30.0->langchain_groq)\n",
      "  Downloading distro-1.9.0-py3-none-any.whl.metadata (6.8 kB)\n",
      "Requirement already satisfied: httpx<1,>=0.23.0 in c:\\users\\dell\\appdata\\roaming\\python\\python313\\site-packages (from groq<1,>=0.30.0->langchain_groq) (0.28.1)\n",
      "Requirement already satisfied: sniffio in c:\\users\\dell\\appdata\\roaming\\python\\python313\\site-packages (from groq<1,>=0.30.0->langchain_groq) (1.3.1)\n",
      "Requirement already satisfied: httpcore==1.* in c:\\users\\dell\\appdata\\roaming\\python\\python313\\site-packages (from httpx<1,>=0.23.0->groq<1,>=0.30.0->langchain_groq) (1.0.9)\n",
      "Requirement already satisfied: h11>=0.16 in c:\\users\\dell\\appdata\\roaming\\python\\python313\\site-packages (from httpcore==1.*->httpx<1,>=0.23.0->groq<1,>=0.30.0->langchain_groq) (0.16.0)\n",
      "Collecting requests<3,>=2 (from langchain)\n",
      "  Using cached requests-2.32.5-py3-none-any.whl.metadata (4.9 kB)\n",
      "Collecting aiohttp<4.0.0,>=3.8.3 (from langchain_community)\n",
      "  Downloading aiohttp-3.12.15-cp313-cp313-win_amd64.whl.metadata (7.9 kB)\n",
      "Collecting dataclasses-json<0.7,>=0.6.7 (from langchain_community)\n",
      "  Downloading dataclasses_json-0.6.7-py3-none-any.whl.metadata (25 kB)\n",
      "Collecting pydantic-settings<3.0.0,>=2.10.1 (from langchain_community)\n",
      "  Downloading pydantic_settings-2.10.1-py3-none-any.whl.metadata (3.4 kB)\n",
      "Collecting httpx-sse<1.0.0,>=0.4.0 (from langchain_community)\n",
      "  Downloading httpx_sse-0.4.1-py3-none-any.whl.metadata (9.4 kB)\n",
      "Requirement already satisfied: numpy>=2.1.0 in c:\\users\\dell\\appdata\\roaming\\python\\python313\\site-packages (from langchain_community) (2.2.6)\n",
      "Collecting aiohappyeyeballs>=2.5.0 (from aiohttp<4.0.0,>=3.8.3->langchain_community)\n",
      "  Downloading aiohappyeyeballs-2.6.1-py3-none-any.whl.metadata (5.9 kB)\n",
      "Collecting aiosignal>=1.4.0 (from aiohttp<4.0.0,>=3.8.3->langchain_community)\n",
      "  Downloading aiosignal-1.4.0-py3-none-any.whl.metadata (3.7 kB)\n",
      "Requirement already satisfied: attrs>=17.3.0 in c:\\users\\dell\\appdata\\roaming\\python\\python313\\site-packages (from aiohttp<4.0.0,>=3.8.3->langchain_community) (25.3.0)\n",
      "Collecting frozenlist>=1.1.1 (from aiohttp<4.0.0,>=3.8.3->langchain_community)\n",
      "  Downloading frozenlist-1.7.0-cp313-cp313-win_amd64.whl.metadata (19 kB)\n",
      "Collecting multidict<7.0,>=4.5 (from aiohttp<4.0.0,>=3.8.3->langchain_community)\n",
      "  Downloading multidict-6.6.4-cp313-cp313-win_amd64.whl.metadata (5.4 kB)\n",
      "Collecting propcache>=0.2.0 (from aiohttp<4.0.0,>=3.8.3->langchain_community)\n",
      "  Downloading propcache-0.3.2-cp313-cp313-win_amd64.whl.metadata (12 kB)\n",
      "Collecting yarl<2.0,>=1.17.0 (from aiohttp<4.0.0,>=3.8.3->langchain_community)\n",
      "  Downloading yarl-1.20.1-cp313-cp313-win_amd64.whl.metadata (76 kB)\n",
      "Collecting marshmallow<4.0.0,>=3.18.0 (from dataclasses-json<0.7,>=0.6.7->langchain_community)\n",
      "  Downloading marshmallow-3.26.1-py3-none-any.whl.metadata (7.3 kB)\n",
      "Collecting typing-inspect<1,>=0.4.0 (from dataclasses-json<0.7,>=0.6.7->langchain_community)\n",
      "  Downloading typing_inspect-0.9.0-py3-none-any.whl.metadata (1.5 kB)\n",
      "Collecting python-dotenv>=0.21.0 (from pydantic-settings<3.0.0,>=2.10.1->langchain_community)\n",
      "  Downloading python_dotenv-1.1.1-py3-none-any.whl.metadata (24 kB)\n",
      "Collecting mypy-extensions>=0.3.0 (from typing-inspect<1,>=0.4.0->dataclasses-json<0.7,>=0.6.7->langchain_community)\n",
      "  Downloading mypy_extensions-1.1.0-py3-none-any.whl.metadata (1.1 kB)\n",
      "Requirement already satisfied: orjson>=3.9.14 in c:\\users\\dell\\appdata\\roaming\\python\\python313\\site-packages (from langsmith>=0.1.17->langchain) (3.10.18)\n",
      "Requirement already satisfied: requests-toolbelt>=1.0.0 in c:\\users\\dell\\appdata\\roaming\\python\\python313\\site-packages (from langsmith>=0.1.17->langchain) (1.0.0)\n",
      "Requirement already satisfied: zstandard>=0.23.0 in c:\\users\\dell\\appdata\\roaming\\python\\python313\\site-packages (from langsmith>=0.1.17->langchain) (0.25.0)\n",
      "Downloading langchain_groq-0.3.8-py3-none-any.whl (16 kB)\n",
      "Downloading groq-0.31.1-py3-none-any.whl (134 kB)\n",
      "Downloading distro-1.9.0-py3-none-any.whl (20 kB)\n",
      "Downloading langchain_community-0.3.29-py3-none-any.whl (2.5 MB)\n",
      "   ---------------------------------------- 0.0/2.5 MB ? eta -:--:--\n",
      "   ---------------------------------------- 2.5/2.5 MB 20.0 MB/s  0:00:00\n",
      "Downloading aiohttp-3.12.15-cp313-cp313-win_amd64.whl (449 kB)\n",
      "Downloading dataclasses_json-0.6.7-py3-none-any.whl (28 kB)\n",
      "Downloading httpx_sse-0.4.1-py3-none-any.whl (8.1 kB)\n",
      "Downloading marshmallow-3.26.1-py3-none-any.whl (50 kB)\n",
      "Downloading multidict-6.6.4-cp313-cp313-win_amd64.whl (45 kB)\n",
      "Downloading pydantic_settings-2.10.1-py3-none-any.whl (45 kB)\n",
      "Using cached requests-2.32.5-py3-none-any.whl (64 kB)\n",
      "Downloading typing_inspect-0.9.0-py3-none-any.whl (8.8 kB)\n",
      "Downloading yarl-1.20.1-cp313-cp313-win_amd64.whl (86 kB)\n",
      "Downloading aiohappyeyeballs-2.6.1-py3-none-any.whl (15 kB)\n",
      "Downloading aiosignal-1.4.0-py3-none-any.whl (7.5 kB)\n",
      "Downloading frozenlist-1.7.0-cp313-cp313-win_amd64.whl (43 kB)\n",
      "Downloading mypy_extensions-1.1.0-py3-none-any.whl (5.0 kB)\n",
      "Downloading propcache-0.3.2-cp313-cp313-win_amd64.whl (40 kB)\n",
      "Downloading python_dotenv-1.1.1-py3-none-any.whl (20 kB)\n",
      "Installing collected packages: requests, python-dotenv, propcache, mypy-extensions, multidict, marshmallow, httpx-sse, frozenlist, distro, aiohappyeyeballs, yarl, typing-inspect, aiosignal, pydantic-settings, groq, dataclasses-json, aiohttp, langchain_groq, langchain_community\n",
      "\n",
      "  Attempting uninstall: requests\n",
      "\n",
      "    Found existing installation: requests 2.32.4\n",
      "\n",
      "    Uninstalling requests-2.32.4:\n",
      "\n",
      "      Successfully uninstalled requests-2.32.4\n",
      "\n",
      "   ----------------------------------------  0/19 [requests]\n",
      "   ---- -----------------------------------  2/19 [propcache]\n",
      "   ---------- -----------------------------  5/19 [marshmallow]\n",
      "   -------------- -------------------------  7/19 [frozenlist]\n",
      "   --------------------- ------------------ 10/19 [yarl]\n",
      "   --------------------------- ------------ 13/19 [pydantic-settings]\n",
      "   ----------------------------- ---------- 14/19 [groq]\n",
      "   ----------------------------- ---------- 14/19 [groq]\n",
      "   ----------------------------- ---------- 14/19 [groq]\n",
      "   ----------------------------- ---------- 14/19 [groq]\n",
      "   ------------------------------- -------- 15/19 [dataclasses-json]\n",
      "   --------------------------------- ------ 16/19 [aiohttp]\n",
      "   --------------------------------- ------ 16/19 [aiohttp]\n",
      "   --------------------------------- ------ 16/19 [aiohttp]\n",
      "   --------------------------------- ------ 16/19 [aiohttp]\n",
      "   ------------------------------------- -- 18/19 [langchain_community]\n",
      "   ------------------------------------- -- 18/19 [langchain_community]\n",
      "   ------------------------------------- -- 18/19 [langchain_community]\n",
      "   ------------------------------------- -- 18/19 [langchain_community]\n",
      "   ------------------------------------- -- 18/19 [langchain_community]\n",
      "   ------------------------------------- -- 18/19 [langchain_community]\n",
      "   ------------------------------------- -- 18/19 [langchain_community]\n",
      "   ------------------------------------- -- 18/19 [langchain_community]\n",
      "   ------------------------------------- -- 18/19 [langchain_community]\n",
      "   ------------------------------------- -- 18/19 [langchain_community]\n",
      "   ------------------------------------- -- 18/19 [langchain_community]\n",
      "   ------------------------------------- -- 18/19 [langchain_community]\n",
      "   ------------------------------------- -- 18/19 [langchain_community]\n",
      "   ------------------------------------- -- 18/19 [langchain_community]\n",
      "   ------------------------------------- -- 18/19 [langchain_community]\n",
      "   ------------------------------------- -- 18/19 [langchain_community]\n",
      "   ------------------------------------- -- 18/19 [langchain_community]\n",
      "   ------------------------------------- -- 18/19 [langchain_community]\n",
      "   ------------------------------------- -- 18/19 [langchain_community]\n",
      "   ------------------------------------- -- 18/19 [langchain_community]\n",
      "   ------------------------------------- -- 18/19 [langchain_community]\n",
      "   ------------------------------------- -- 18/19 [langchain_community]\n",
      "   ------------------------------------- -- 18/19 [langchain_community]\n",
      "   ------------------------------------- -- 18/19 [langchain_community]\n",
      "   ------------------------------------- -- 18/19 [langchain_community]\n",
      "   ------------------------------------- -- 18/19 [langchain_community]\n",
      "   ------------------------------------- -- 18/19 [langchain_community]\n",
      "   ------------------------------------- -- 18/19 [langchain_community]\n",
      "   ------------------------------------- -- 18/19 [langchain_community]\n",
      "   ------------------------------------- -- 18/19 [langchain_community]\n",
      "   ------------------------------------- -- 18/19 [langchain_community]\n",
      "   ------------------------------------- -- 18/19 [langchain_community]\n",
      "   ------------------------------------- -- 18/19 [langchain_community]\n",
      "   ------------------------------------- -- 18/19 [langchain_community]\n",
      "   ------------------------------------- -- 18/19 [langchain_community]\n",
      "   ------------------------------------- -- 18/19 [langchain_community]\n",
      "   ------------------------------------- -- 18/19 [langchain_community]\n",
      "   ------------------------------------- -- 18/19 [langchain_community]\n",
      "   ------------------------------------- -- 18/19 [langchain_community]\n",
      "   ------------------------------------- -- 18/19 [langchain_community]\n",
      "   ------------------------------------- -- 18/19 [langchain_community]\n",
      "   ------------------------------------- -- 18/19 [langchain_community]\n",
      "   ------------------------------------- -- 18/19 [langchain_community]\n",
      "   ------------------------------------- -- 18/19 [langchain_community]\n",
      "   ------------------------------------- -- 18/19 [langchain_community]\n",
      "   ------------------------------------- -- 18/19 [langchain_community]\n",
      "   ------------------------------------- -- 18/19 [langchain_community]\n",
      "   ------------------------------------- -- 18/19 [langchain_community]\n",
      "   ------------------------------------- -- 18/19 [langchain_community]\n",
      "   ------------------------------------- -- 18/19 [langchain_community]\n",
      "   ------------------------------------- -- 18/19 [langchain_community]\n",
      "   ------------------------------------- -- 18/19 [langchain_community]\n",
      "   ------------------------------------- -- 18/19 [langchain_community]\n",
      "   ------------------------------------- -- 18/19 [langchain_community]\n",
      "   ------------------------------------- -- 18/19 [langchain_community]\n",
      "   ------------------------------------- -- 18/19 [langchain_community]\n",
      "   ------------------------------------- -- 18/19 [langchain_community]\n",
      "   ------------------------------------- -- 18/19 [langchain_community]\n",
      "   ------------------------------------- -- 18/19 [langchain_community]\n",
      "   ------------------------------------- -- 18/19 [langchain_community]\n",
      "   ------------------------------------- -- 18/19 [langchain_community]\n",
      "   ------------------------------------- -- 18/19 [langchain_community]\n",
      "   ------------------------------------- -- 18/19 [langchain_community]\n",
      "   ------------------------------------- -- 18/19 [langchain_community]\n",
      "   ------------------------------------- -- 18/19 [langchain_community]\n",
      "   ---------------------------------------- 19/19 [langchain_community]\n",
      "\n",
      "Successfully installed aiohappyeyeballs-2.6.1 aiohttp-3.12.15 aiosignal-1.4.0 dataclasses-json-0.6.7 distro-1.9.0 frozenlist-1.7.0 groq-0.31.1 httpx-sse-0.4.1 langchain_community-0.3.29 langchain_groq-0.3.8 marshmallow-3.26.1 multidict-6.6.4 mypy-extensions-1.1.0 propcache-0.3.2 pydantic-settings-2.10.1 python-dotenv-1.1.1 requests-2.32.5 typing-inspect-0.9.0 yarl-1.20.1\n",
      "Note: you may need to restart the kernel to use updated packages.\n"
     ]
    }
   ],
   "source": [
    "pip install langchain langchain_groq langchain_community"
   ]
  },
  {
   "cell_type": "code",
   "execution_count": null,
   "id": "ee695f40",
   "metadata": {},
   "outputs": [],
   "source": [
    "groq_api_key=''\n",
    "langsmith=''"
   ]
  },
  {
   "cell_type": "code",
   "execution_count": 12,
   "id": "2724af74",
   "metadata": {},
   "outputs": [],
   "source": [
    "from langchain_groq import ChatGroq"
   ]
  },
  {
   "cell_type": "code",
   "execution_count": 13,
   "id": "b78247cf",
   "metadata": {},
   "outputs": [
    {
     "data": {
      "text/plain": [
       "ChatGroq(client=<groq.resources.chat.completions.Completions object at 0x000001F6FE165400>, async_client=<groq.resources.chat.completions.AsyncCompletions object at 0x000001F6FE165FD0>, model_name='Gemma2-9b-It', model_kwargs={}, groq_api_key=SecretStr('**********'))"
      ]
     },
     "execution_count": 13,
     "metadata": {},
     "output_type": "execute_result"
    }
   ],
   "source": [
    "llm=ChatGroq(groq_api_key=groq_api_key, model_name=\"Gemma2-9b-It\")\n",
    "llm"
   ]
  },
  {
   "cell_type": "code",
   "execution_count": 14,
   "id": "94ef0aa3",
   "metadata": {},
   "outputs": [],
   "source": [
    "from typing import Annotated\n",
    "from typing_extensions import TypedDict\n",
    "from langgraph.graph import StateGraph,START,END\n",
    "from langgraph.graph.message import add_messages"
   ]
  },
  {
   "cell_type": "code",
   "execution_count": 15,
   "id": "871f8283",
   "metadata": {},
   "outputs": [],
   "source": [
    "class State(TypedDict):\n",
    "  # Messages have the type \"list\". The `add_messages` function\n",
    "    # in the annotation defines how this state key should be updated\n",
    "    # (in this case, it appends messages to the list, rather than overwriting them)\n",
    "  messages:Annotated[list,add_messages]\n",
    "\n",
    "graph_builder=StateGraph(State)"
   ]
  },
  {
   "cell_type": "code",
   "execution_count": 16,
   "id": "8b282924",
   "metadata": {},
   "outputs": [
    {
     "data": {
      "text/plain": [
       "<langgraph.graph.state.StateGraph at 0x1f6ff270c20>"
      ]
     },
     "execution_count": 16,
     "metadata": {},
     "output_type": "execute_result"
    }
   ],
   "source": [
    "graph_builder"
   ]
  },
  {
   "cell_type": "code",
   "execution_count": 17,
   "id": "961ef917",
   "metadata": {},
   "outputs": [],
   "source": [
    "def chatbot(state:State):\n",
    "  return {\"messages\":llm.invoke(state['messages'])}"
   ]
  },
  {
   "cell_type": "code",
   "execution_count": 18,
   "id": "1912277a",
   "metadata": {},
   "outputs": [
    {
     "data": {
      "text/plain": [
       "<langgraph.graph.state.StateGraph at 0x1f6ff270c20>"
      ]
     },
     "execution_count": 18,
     "metadata": {},
     "output_type": "execute_result"
    }
   ],
   "source": [
    "graph_builder.add_node(\"chatbot\",chatbot)"
   ]
  },
  {
   "cell_type": "code",
   "execution_count": 19,
   "id": "e6e05459",
   "metadata": {},
   "outputs": [
    {
     "data": {
      "text/plain": [
       "<langgraph.graph.state.StateGraph at 0x1f6ff270c20>"
      ]
     },
     "execution_count": 19,
     "metadata": {},
     "output_type": "execute_result"
    }
   ],
   "source": [
    "graph_builder"
   ]
  },
  {
   "cell_type": "code",
   "execution_count": 20,
   "id": "e6863791",
   "metadata": {},
   "outputs": [
    {
     "data": {
      "text/plain": [
       "<langgraph.graph.state.StateGraph at 0x1f6ff270c20>"
      ]
     },
     "execution_count": 20,
     "metadata": {},
     "output_type": "execute_result"
    }
   ],
   "source": [
    "graph_builder.add_edge(START,\"chatbot\")\n",
    "graph_builder.add_edge(\"chatbot\",END)"
   ]
  },
  {
   "cell_type": "code",
   "execution_count": 21,
   "id": "d371097f",
   "metadata": {},
   "outputs": [],
   "source": [
    "graph=graph_builder.compile()"
   ]
  },
  {
   "cell_type": "code",
   "execution_count": 22,
   "id": "5c662593",
   "metadata": {},
   "outputs": [
    {
     "data": {
      "image/png": "[encoded data removed]",
      "text/plain": [
       "<IPython.core.display.Image object>"
      ]
     },
     "metadata": {},
     "output_type": "display_data"
    }
   ],
   "source": [
    "from IPython.display import Image, display\n",
    "try:\n",
    "  display(Image(graph.get_graph().draw_mermaid_png()))\n",
    "except Exception:\n",
    "  pass "
   ]
  },
  {
   "cell_type": "code",
   "execution_count": null,
   "id": "d89704b6",
   "metadata": {},
   "outputs": [
    {
     "name": "stdout",
     "output_type": "stream",
     "text": [
      "dict_values([{'messages': AIMessage(content=\"Please provide me with a prompt or question so I can assist you. \\n\\nFor example, you could ask me:\\n\\n* To write a story\\n* To summarize a news article\\n* To translate a phrase\\n* To answer a factual question\\n* To generate creative content\\n\\n\\nI'm ready to help! 😊\\n\", additional_kwargs={}, response_metadata={'token_usage': {'completion_tokens': 68, 'prompt_tokens': 9, 'total_tokens': 77, 'completion_time': 0.123636364, 'prompt_time': 0.001183959, 'queue_time': 0.252365291, 'total_time': 0.124820323}, 'model_name': 'Gemma2-9b-It', 'system_fingerprint': 'fp_10c08bf97d', 'service_tier': 'on_demand', 'finish_reason': 'stop', 'logprobs': None}, id='run--e028b96b-3a73-485c-b39a-d0442a1ea8a5-0', usage_metadata={'input_tokens': 9, 'output_tokens': 68, 'total_tokens': 77})}])\n",
      "content=\"Please provide me with a prompt or question so I can assist you. \\n\\nFor example, you could ask me:\\n\\n* To write a story\\n* To summarize a news article\\n* To translate a phrase\\n* To answer a factual question\\n* To generate creative content\\n\\n\\nI'm ready to help! 😊\\n\" additional_kwargs={} response_metadata={'token_usage': {'completion_tokens': 68, 'prompt_tokens': 9, 'total_tokens': 77, 'completion_time': 0.123636364, 'prompt_time': 0.001183959, 'queue_time': 0.252365291, 'total_time': 0.124820323}, 'model_name': 'Gemma2-9b-It', 'system_fingerprint': 'fp_10c08bf97d', 'service_tier': 'on_demand', 'finish_reason': 'stop', 'logprobs': None} id='run--e028b96b-3a73-485c-b39a-d0442a1ea8a5-0' usage_metadata={'input_tokens': 9, 'output_tokens': 68, 'total_tokens': 77}\n",
      "Assistant: Please provide me with a prompt or question so I can assist you. \n",
      "\n",
      "For example, you could ask me:\n",
      "\n",
      "* To write a story\n",
      "* To summarize a news article\n",
      "* To translate a phrase\n",
      "* To answer a factual question\n",
      "* To generate creative content\n",
      "\n",
      "\n",
      "I'm ready to help! 😊\n",
      "\n",
      "dict_values([{'messages': AIMessage(content='Please provide me with a question or topic so I can assist you! For example, you could ask:\\n\\n* \"What is the capital of France?\"\\n* \"Write a poem about a cat.\"\\n* \"Explain quantum mechanics in simple terms.\"\\n* \"What are some good books to read?\"\\n* \"Help me brainstorm ideas for a birthday party.\"\\n\\n\\nI\\'m ready for anything! 😊 \\n', additional_kwargs={}, response_metadata={'token_usage': {'completion_tokens': 87, 'prompt_tokens': 9, 'total_tokens': 96, 'completion_time': 0.158181818, 'prompt_time': 0.001183789, 'queue_time': 0.25195091, 'total_time': 0.159365607}, 'model_name': 'Gemma2-9b-It', 'system_fingerprint': 'fp_10c08bf97d', 'service_tier': 'on_demand', 'finish_reason': 'stop', 'logprobs': None}, id='run--568a2c6b-e206-495d-afce-45a20b22361e-0', usage_metadata={'input_tokens': 9, 'output_tokens': 87, 'total_tokens': 96})}])\n",
      "content='Please provide me with a question or topic so I can assist you! For example, you could ask:\\n\\n* \"What is the capital of France?\"\\n* \"Write a poem about a cat.\"\\n* \"Explain quantum mechanics in simple terms.\"\\n* \"What are some good books to read?\"\\n* \"Help me brainstorm ideas for a birthday party.\"\\n\\n\\nI\\'m ready for anything! 😊 \\n' additional_kwargs={} response_metadata={'token_usage': {'completion_tokens': 87, 'prompt_tokens': 9, 'total_tokens': 96, 'completion_time': 0.158181818, 'prompt_time': 0.001183789, 'queue_time': 0.25195091, 'total_time': 0.159365607}, 'model_name': 'Gemma2-9b-It', 'system_fingerprint': 'fp_10c08bf97d', 'service_tier': 'on_demand', 'finish_reason': 'stop', 'logprobs': None} id='run--568a2c6b-e206-495d-afce-45a20b22361e-0' usage_metadata={'input_tokens': 9, 'output_tokens': 87, 'total_tokens': 96}\n",
      "Assistant: Please provide me with a question or topic so I can assist you! For example, you could ask:\n",
      "\n",
      "* \"What is the capital of France?\"\n",
      "* \"Write a poem about a cat.\"\n",
      "* \"Explain quantum mechanics in simple terms.\"\n",
      "* \"What are some good books to read?\"\n",
      "* \"Help me brainstorm ideas for a birthday party.\"\n",
      "\n",
      "\n",
      "I'm ready for anything! 😊 \n",
      "\n",
      "dict_values([{'messages': AIMessage(content='Please provide me with a prompt or question so I can assist you! 😊 \\n\\nFor example, you could ask me to:\\n\\n* **Write a story:** \"Write a short story about a robot who learns to feel emotions.\"\\n* **Answer a question:** \"What is the capital of France?\"\\n* **Generate creative content:** \"Give me some ideas for a birthday party theme.\"\\n* **Translate text:** \"Translate \\'Hello, how are you?\\' into Spanish.\"\\n* **Summarize information:** \"Summarize the plot of the movie Inception.\"\\n\\nI\\'m ready for anything! ✨ \\n', additional_kwargs={}, response_metadata={'token_usage': {'completion_tokens': 129, 'prompt_tokens': 9, 'total_tokens': 138, 'completion_time': 0.234545455, 'prompt_time': 0.001175169, 'queue_time': 0.24936051, 'total_time': 0.235720624}, 'model_name': 'Gemma2-9b-It', 'system_fingerprint': 'fp_10c08bf97d', 'service_tier': 'on_demand', 'finish_reason': 'stop', 'logprobs': None}, id='run--f78c7e1e-42a7-4d93-8f79-427e70f83c36-0', usage_metadata={'input_tokens': 9, 'output_tokens': 129, 'total_tokens': 138})}])\n",
      "content='Please provide me with a prompt or question so I can assist you! 😊 \\n\\nFor example, you could ask me to:\\n\\n* **Write a story:** \"Write a short story about a robot who learns to feel emotions.\"\\n* **Answer a question:** \"What is the capital of France?\"\\n* **Generate creative content:** \"Give me some ideas for a birthday party theme.\"\\n* **Translate text:** \"Translate \\'Hello, how are you?\\' into Spanish.\"\\n* **Summarize information:** \"Summarize the plot of the movie Inception.\"\\n\\nI\\'m ready for anything! ✨ \\n' additional_kwargs={} response_metadata={'token_usage': {'completion_tokens': 129, 'prompt_tokens': 9, 'total_tokens': 138, 'completion_time': 0.234545455, 'prompt_time': 0.001175169, 'queue_time': 0.24936051, 'total_time': 0.235720624}, 'model_name': 'Gemma2-9b-It', 'system_fingerprint': 'fp_10c08bf97d', 'service_tier': 'on_demand', 'finish_reason': 'stop', 'logprobs': None} id='run--f78c7e1e-42a7-4d93-8f79-427e70f83c36-0' usage_metadata={'input_tokens': 9, 'output_tokens': 129, 'total_tokens': 138}\n",
      "Assistant: Please provide me with a prompt or question so I can assist you! 😊 \n",
      "\n",
      "For example, you could ask me to:\n",
      "\n",
      "* **Write a story:** \"Write a short story about a robot who learns to feel emotions.\"\n",
      "* **Answer a question:** \"What is the capital of France?\"\n",
      "* **Generate creative content:** \"Give me some ideas for a birthday party theme.\"\n",
      "* **Translate text:** \"Translate 'Hello, how are you?' into Spanish.\"\n",
      "* **Summarize information:** \"Summarize the plot of the movie Inception.\"\n",
      "\n",
      "I'm ready for anything! ✨ \n",
      "\n",
      "dict_values([{'messages': AIMessage(content='Please provide me with more context or information! I need to know what you want me to do. \\n\\nFor example, do you want me to:\\n\\n* **Answer a question?** \\n* **Write a story?**\\n* **Summarize a text?**\\n* **Translate something?**\\n* **Generate code?**\\n\\nThe more specific you are, the better I can help! 😊\\n\\n', additional_kwargs={}, response_metadata={'token_usage': {'completion_tokens': 89, 'prompt_tokens': 9, 'total_tokens': 98, 'completion_time': 0.161818182, 'prompt_time': 0.001182849, 'queue_time': 0.252638572, 'total_time': 0.163001031}, 'model_name': 'Gemma2-9b-It', 'system_fingerprint': 'fp_10c08bf97d', 'service_tier': 'on_demand', 'finish_reason': 'stop', 'logprobs': None}, id='run--78391acf-4311-4e4e-9225-497fa6cf8cad-0', usage_metadata={'input_tokens': 9, 'output_tokens': 89, 'total_tokens': 98})}])\n",
      "content='Please provide me with more context or information! I need to know what you want me to do. \\n\\nFor example, do you want me to:\\n\\n* **Answer a question?** \\n* **Write a story?**\\n* **Summarize a text?**\\n* **Translate something?**\\n* **Generate code?**\\n\\nThe more specific you are, the better I can help! 😊\\n\\n' additional_kwargs={} response_metadata={'token_usage': {'completion_tokens': 89, 'prompt_tokens': 9, 'total_tokens': 98, 'completion_time': 0.161818182, 'prompt_time': 0.001182849, 'queue_time': 0.252638572, 'total_time': 0.163001031}, 'model_name': 'Gemma2-9b-It', 'system_fingerprint': 'fp_10c08bf97d', 'service_tier': 'on_demand', 'finish_reason': 'stop', 'logprobs': None} id='run--78391acf-4311-4e4e-9225-497fa6cf8cad-0' usage_metadata={'input_tokens': 9, 'output_tokens': 89, 'total_tokens': 98}\n",
      "Assistant: Please provide me with more context or information! I need to know what you want me to do. \n",
      "\n",
      "For example, do you want me to:\n",
      "\n",
      "* **Answer a question?** \n",
      "* **Write a story?**\n",
      "* **Summarize a text?**\n",
      "* **Translate something?**\n",
      "* **Generate code?**\n",
      "\n",
      "The more specific you are, the better I can help! 😊\n",
      "\n",
      "\n",
      "dict_values([{'messages': AIMessage(content=\"Please provide me with a question or a topic you'd like to discuss. I'm ready to help! \\n\\nFor example, you could ask me:\\n\\n* To write a story\\n* To translate something\\n* To answer a question about a specific topic\\n* To generate different creative text formats,  like poems, code, scripts, musical pieces, email, letters, etc.\\n* To help you brainstorm ideas\\n\\nI'm excited to see what you have in mind! 😄\\n\\n\", additional_kwargs={}, response_metadata={'token_usage': {'completion_tokens': 105, 'prompt_tokens': 9, 'total_tokens': 114, 'completion_time': 0.190909091, 'prompt_time': 0.001178879, 'queue_time': 0.25308304, 'total_time': 0.19208797}, 'model_name': 'Gemma2-9b-It', 'system_fingerprint': 'fp_10c08bf97d', 'service_tier': 'on_demand', 'finish_reason': 'stop', 'logprobs': None}, id='run--51dfffdf-3838-41ba-a85d-b66480e4ba88-0', usage_metadata={'input_tokens': 9, 'output_tokens': 105, 'total_tokens': 114})}])\n",
      "content=\"Please provide me with a question or a topic you'd like to discuss. I'm ready to help! \\n\\nFor example, you could ask me:\\n\\n* To write a story\\n* To translate something\\n* To answer a question about a specific topic\\n* To generate different creative text formats,  like poems, code, scripts, musical pieces, email, letters, etc.\\n* To help you brainstorm ideas\\n\\nI'm excited to see what you have in mind! 😄\\n\\n\" additional_kwargs={} response_metadata={'token_usage': {'completion_tokens': 105, 'prompt_tokens': 9, 'total_tokens': 114, 'completion_time': 0.190909091, 'prompt_time': 0.001178879, 'queue_time': 0.25308304, 'total_time': 0.19208797}, 'model_name': 'Gemma2-9b-It', 'system_fingerprint': 'fp_10c08bf97d', 'service_tier': 'on_demand', 'finish_reason': 'stop', 'logprobs': None} id='run--51dfffdf-3838-41ba-a85d-b66480e4ba88-0' usage_metadata={'input_tokens': 9, 'output_tokens': 105, 'total_tokens': 114}\n",
      "Assistant: Please provide me with a question or a topic you'd like to discuss. I'm ready to help! \n",
      "\n",
      "For example, you could ask me:\n",
      "\n",
      "* To write a story\n",
      "* To translate something\n",
      "* To answer a question about a specific topic\n",
      "* To generate different creative text formats,  like poems, code, scripts, musical pieces, email, letters, etc.\n",
      "* To help you brainstorm ideas\n",
      "\n",
      "I'm excited to see what you have in mind! 😄\n",
      "\n",
      "\n",
      "dict_values([{'messages': AIMessage(content=\"Please provide me with a prompt or question so I can assist you! I'm ready to help with tasks like:\\n\\n* **Generating creative content:** Stories, poems, articles, dialogue, etc.\\n* **Answering questions:** To the best of my knowledge based on my training data.\\n* **Summarizing text:** Providing concise summaries of longer pieces of writing.\\n* **Translating languages:**\\n\\nI can translate between many different languages.\\n* **And much more!**\\n\\nLet me know what you need. 😊\\n\\n\", additional_kwargs={}, response_metadata={'token_usage': {'completion_tokens': 113, 'prompt_tokens': 9, 'total_tokens': 122, 'completion_time': 0.205454545, 'prompt_time': 0.001176099, 'queue_time': 0.25195791, 'total_time': 0.206630644}, 'model_name': 'Gemma2-9b-It', 'system_fingerprint': 'fp_10c08bf97d', 'service_tier': 'on_demand', 'finish_reason': 'stop', 'logprobs': None}, id='run--a3a32a4d-72eb-4908-a14a-72e92288ddf3-0', usage_metadata={'input_tokens': 9, 'output_tokens': 113, 'total_tokens': 122})}])\n",
      "content=\"Please provide me with a prompt or question so I can assist you! I'm ready to help with tasks like:\\n\\n* **Generating creative content:** Stories, poems, articles, dialogue, etc.\\n* **Answering questions:** To the best of my knowledge based on my training data.\\n* **Summarizing text:** Providing concise summaries of longer pieces of writing.\\n* **Translating languages:**\\n\\nI can translate between many different languages.\\n* **And much more!**\\n\\nLet me know what you need. 😊\\n\\n\" additional_kwargs={} response_metadata={'token_usage': {'completion_tokens': 113, 'prompt_tokens': 9, 'total_tokens': 122, 'completion_time': 0.205454545, 'prompt_time': 0.001176099, 'queue_time': 0.25195791, 'total_time': 0.206630644}, 'model_name': 'Gemma2-9b-It', 'system_fingerprint': 'fp_10c08bf97d', 'service_tier': 'on_demand', 'finish_reason': 'stop', 'logprobs': None} id='run--a3a32a4d-72eb-4908-a14a-72e92288ddf3-0' usage_metadata={'input_tokens': 9, 'output_tokens': 113, 'total_tokens': 122}\n",
      "Assistant: Please provide me with a prompt or question so I can assist you! I'm ready to help with tasks like:\n",
      "\n",
      "* **Generating creative content:** Stories, poems, articles, dialogue, etc.\n",
      "* **Answering questions:** To the best of my knowledge based on my training data.\n",
      "* **Summarizing text:** Providing concise summaries of longer pieces of writing.\n",
      "* **Translating languages:**\n",
      "\n",
      "I can translate between many different languages.\n",
      "* **And much more!**\n",
      "\n",
      "Let me know what you need. 😊\n",
      "\n",
      "\n",
      "dict_values([{'messages': AIMessage(content=\"Please provide me with the text you'd like me to summarize. I'm ready! 😊  \\n\", additional_kwargs={}, response_metadata={'token_usage': {'completion_tokens': 24, 'prompt_tokens': 9, 'total_tokens': 33, 'completion_time': 0.043636364, 'prompt_time': 0.001201909, 'queue_time': 0.25207308, 'total_time': 0.044838273}, 'model_name': 'Gemma2-9b-It', 'system_fingerprint': 'fp_10c08bf97d', 'service_tier': 'on_demand', 'finish_reason': 'stop', 'logprobs': None}, id='run--6051315c-df3c-44eb-aea5-fb21132a7f57-0', usage_metadata={'input_tokens': 9, 'output_tokens': 24, 'total_tokens': 33})}])\n",
      "content=\"Please provide me with the text you'd like me to summarize. I'm ready! 😊  \\n\" additional_kwargs={} response_metadata={'token_usage': {'completion_tokens': 24, 'prompt_tokens': 9, 'total_tokens': 33, 'completion_time': 0.043636364, 'prompt_time': 0.001201909, 'queue_time': 0.25207308, 'total_time': 0.044838273}, 'model_name': 'Gemma2-9b-It', 'system_fingerprint': 'fp_10c08bf97d', 'service_tier': 'on_demand', 'finish_reason': 'stop', 'logprobs': None} id='run--6051315c-df3c-44eb-aea5-fb21132a7f57-0' usage_metadata={'input_tokens': 9, 'output_tokens': 24, 'total_tokens': 33}\n",
      "Assistant: Please provide me with the text you'd like me to summarize. I'm ready! 😊  \n",
      "\n"
     ]
    }
   ],
   "source": [
    "while True:\n",
    "  user_input=input(\"User: \")\n",
    "  if user_input.lower() in [\"quit\",\"q\"]:\n",
    "    print(\"Good Bye\")\n",
    "    break\n",
    "  for event in graph.stream({'messages':(\"user\",user_input)}):\n",
    "    print(event.values())\n",
    "    for value in event.values():\n",
    "      print(value['messages'])\n",
    "      print(\"Assistant:\",value[\"messages\"].content)"
   ]
  },
  {
   "cell_type": "code",
   "execution_count": null,
   "id": "fafc88bf",
   "metadata": {},
   "outputs": [],
   "source": []
  },
  {
   "cell_type": "code",
   "execution_count": null,
   "id": "3b1fe0d1",
   "metadata": {},
   "outputs": [],
   "source": []
  }
 ],
 "metadata": {
  "kernelspec": {
   "display_name": "Python 3",
   "language": "python",
   "name": "python3"
  },
  "language_info": {
   "codemirror_mode": {
    "name": "ipython",
    "version": 3
   },
   "file_extension": ".py",
   "mimetype": "text/x-python",
   "name": "python",
   "nbconvert_exporter": "python",
   "pygments_lexer": "ipython3",
   "version": "3.13.7"
  }
 },
 "nbformat": 4,
 "nbformat_minor": 5
}
