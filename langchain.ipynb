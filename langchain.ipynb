{
 "cells": [
  {
   "cell_type": "code",
   "execution_count": 3,
   "id": "740e0137",
   "metadata": {},
   "outputs": [
    {
     "name": "stdout",
     "output_type": "stream",
     "text": [
      "Note: you may need to restart the kernel to use updated packages.\n"
     ]
    }
   ],
   "source": [
    "pip install -qU \"langchain[google-genai]\""
   ]
  },
  {
   "cell_type": "code",
   "execution_count": null,
   "id": "d138bdc1",
   "metadata": {},
   "outputs": [
    {
     "name": "stdout",
     "output_type": "stream",
     "text": [
      "Paris\n"
     ]
    }
   ],
   "source": [
    "import os\n",
    "\n",
    "# Set the API key (Note: avoid hardcoding sensitive keys in production)\n",
    "os.environ[\"GOOGLE_API_KEY\"] = \"\"\n",
    "\n",
    "# Import the correct class for using Gemini models via LangChain\n",
    "from langchain_google_genai import ChatGoogleGenerativeAI\n",
    "\n",
    "# Initialize the model (use \"gemini-1.5-flash\" or \"gemini-1.5-pro\" – not \"2.0-flash\" as it doesn't exist)\n",
    "model = ChatGoogleGenerativeAI(model=\"gemini-1.5-flash\")\n",
    "\n",
    "# Test the model\n",
    "response = model.invoke(\"What's the capital of France?\")\n",
    "print(response.content)\n"
   ]
  },
  {
   "cell_type": "code",
   "execution_count": 5,
   "id": "99e0c835",
   "metadata": {},
   "outputs": [
    {
     "name": "stdout",
     "output_type": "stream",
     "text": [
      "content=\"Generative AI and Agentic AI are both exciting subfields of artificial intelligence, but they represent distinct capabilities and goals.  Let's break down each:\\n\\n**Generative AI:**\\n\\n* **What it is:** Generative AI focuses on creating new content. This content can take many forms, including text (like stories, articles, code), images (like photorealistic pictures, artwork), audio (like music, speech), video, and even 3D models.  It works by learning patterns from existing data and then using that knowledge to generate similar, but novel, outputs.\\n* **How it works:**  Typically relies on deep learning models, particularly generative adversarial networks (GANs) and large language models (LLMs).  GANs involve two networks competing against each other: a generator that creates content and a discriminator that evaluates its authenticity. LLMs, like GPT-3, predict the most likely next word in a sequence, generating coherent and contextually relevant text.\\n* **Examples:**  DALL-E 2 (image generation), Midjourney (image generation), ChatGPT (text generation), Jukebox (music generation).\\n* **Key Characteristics:**  Focuses on *creation*, not action.  It generates outputs based on input prompts or learned patterns, but doesn't independently take actions in the real world.  It's a tool for content creation.\\n\\n**Agentic AI:**\\n\\n* **What it is:** Agentic AI refers to AI systems that can act autonomously in the world to achieve specific goals. These agents perceive their environment, plan actions, execute those actions, and learn from the outcomes.  They are not just passive generators of content; they actively interact with their environment.\\n* **How it works:**  Often combines various AI techniques, including reinforcement learning (RL), planning algorithms, and perception systems (computer vision, natural language processing). RL allows agents to learn optimal actions through trial and error, while planning algorithms help them strategize and make decisions.\\n* **Examples:**  Robots navigating a warehouse, AI playing games like chess or Go, self-driving cars, AI managing resources in a complex system.\\n* **Key Characteristics:**  Focuses on *action* and *goal achievement*.  It's not just about generating outputs; it's about interacting with and modifying the world to achieve a defined objective.  Requires a significant level of autonomy and decision-making capabilities.\\n\\n\\n**Relationship between Generative AI and Agentic AI:**\\n\\nWhile distinct, these two areas are not mutually exclusive.  Agentic AI systems can leverage generative AI to improve their capabilities. For example:\\n\\n* An autonomous robot navigating a complex environment might use a generative model to predict the most likely path based on sensor data.\\n* An AI agent playing a strategy game might use a generative model to create and evaluate different game strategies.\\n\\nIn essence, generative AI can serve as a powerful tool *within* an agentic AI system, providing it with the ability to generate creative solutions and predictions.  However, generative AI alone doesn't constitute agentic AI; the crucial difference lies in the ability to act autonomously in the real world to achieve goals.\" additional_kwargs={} response_metadata={'prompt_feedback': {'block_reason': 0, 'safety_ratings': []}, 'finish_reason': 'STOP', 'model_name': 'gemini-1.5-flash', 'safety_ratings': []} id='run--b01332ff-276d-4a09-9610-9756931935bf-0' usage_metadata={'input_tokens': 8, 'output_tokens': 653, 'total_tokens': 661, 'input_token_details': {'cache_read': 0}}\n"
     ]
    }
   ],
   "source": [
    "result  = model.invoke(\"About Generative AI and Agentic AI\")\n",
    "print(result)"
   ]
  },
  {
   "cell_type": "code",
   "execution_count": null,
   "id": "24d5b055",
   "metadata": {},
   "outputs": [],
   "source": []
  }
 ],
 "metadata": {
  "kernelspec": {
   "display_name": "Python 3",
   "language": "python",
   "name": "python3"
  },
  "language_info": {
   "codemirror_mode": {
    "name": "ipython",
    "version": 3
   },
   "file_extension": ".py",
   "mimetype": "text/x-python",
   "name": "python",
   "nbconvert_exporter": "python",
   "pygments_lexer": "ipython3",
   "version": "3.13.7"
  }
 },
 "nbformat": 4,
 "nbformat_minor": 5
}
